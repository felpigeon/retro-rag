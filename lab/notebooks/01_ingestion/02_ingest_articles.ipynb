{
 "cells": [
  {
   "cell_type": "code",
   "execution_count": null,
   "metadata": {},
   "outputs": [],
   "source": [
    "from uuid import uuid4\n",
    "import pandas as pd\n",
    "import duckdb\n",
    "\n",
    "from qdrant_client import QdrantClient, models\n",
    "from fastembed import SparseTextEmbedding"
   ]
  },
  {
   "cell_type": "code",
   "execution_count": null,
   "metadata": {},
   "outputs": [],
   "source": [
    "import sys\n",
    "sys.path.append('../../src')\n",
    "\n",
    "from utils import read_raw_dataset\n",
    "from embeddings import generate_embeddings"
   ]
  },
  {
   "cell_type": "code",
   "execution_count": null,
   "metadata": {},
   "outputs": [],
   "source": [
    "kaggle_dataset_path = \"../../../data/Wikipedia.json\"\n",
    "df = read_raw_dataset(kaggle_dataset_path)"
   ]
  },
  {
   "cell_type": "markdown",
   "metadata": {},
   "source": [
    "Ajout des entites extraites"
   ]
  },
  {
   "cell_type": "code",
   "execution_count": null,
   "metadata": {},
   "outputs": [],
   "source": [
    "metadata = pd.read_parquet('../../data/metadata')\n",
    "\n",
    "types = ['Game', 'Console', 'Publisher']\n",
    "for t in types:\n",
    "    metadata[t] = metadata.entities.apply(\n",
    "        lambda x: [\n",
    "            e['name'].lower()\n",
    "            for e in x if e['type'] == t\n",
    "        ]\n",
    "    )"
   ]
  },
  {
   "cell_type": "code",
   "execution_count": 23,
   "metadata": {},
   "outputs": [],
   "source": [
    "df = df.merge(\n",
    "    metadata[['_id'] + types],\n",
    "    on='_id',\n",
    "    how='left'\n",
    ")\n",
    "\n",
    "for t in types:\n",
    "    df[t] = df[t].apply(lambda x: [] if not isinstance(x, list) else x)"
   ]
  },
  {
   "cell_type": "markdown",
   "metadata": {},
   "source": [
    "Generation des vecteurs pour le BM25 (sans le terme IDF, qui est gere par Qdrant)"
   ]
  },
  {
   "cell_type": "code",
   "execution_count": null,
   "metadata": {},
   "outputs": [],
   "source": [
    "bm25_model = SparseTextEmbedding(model_name=\"Qdrant/bm25\")\n",
    "\n",
    "df['sparse'] = list(bm25_model.embed(df.article.tolist()))\n",
    "\n",
    "df['sparse_values'] = df['sparse'].apply(\n",
    "    lambda x: [float(v) for v in x.values]\n",
    ")\n",
    "df['sparse_indices'] = df['sparse'].apply(\n",
    "    lambda x: [int(v) for v in x.indices]\n",
    ")\n",
    "\n",
    "df = df.drop(columns=['sparse'])"
   ]
  },
  {
   "cell_type": "markdown",
   "metadata": {},
   "source": [
    "Generation des vecteurs pour la recherche semantique"
   ]
  },
  {
   "cell_type": "code",
   "execution_count": null,
   "metadata": {},
   "outputs": [],
   "source": [
    "df['embedding'] = generate_embeddings(df.article.tolist())"
   ]
  },
  {
   "cell_type": "markdown",
   "metadata": {},
   "source": [
    "Generation d'un uuid pour Qdrant"
   ]
  },
  {
   "cell_type": "code",
   "execution_count": null,
   "metadata": {},
   "outputs": [],
   "source": [
    "df['uuid'] = df['_id'].apply(\n",
    "    lambda: str(uuid4())\n",
    ")"
   ]
  },
  {
   "cell_type": "markdown",
   "metadata": {},
   "source": [
    "Persistances des articles"
   ]
  },
  {
   "cell_type": "code",
   "execution_count": null,
   "metadata": {},
   "outputs": [],
   "source": [
    "df.to_parquet('../../data/articles.parquet', index=False)"
   ]
  },
  {
   "cell_type": "markdown",
   "metadata": {},
   "source": [
    "Ingestion des donnees dans Qdrant"
   ]
  },
  {
   "cell_type": "code",
   "execution_count": null,
   "metadata": {},
   "outputs": [
    {
     "data": {
      "text/plain": [
       "True"
      ]
     },
     "execution_count": 25,
     "metadata": {},
     "output_type": "execute_result"
    }
   ],
   "source": [
    "client = QdrantClient(\"http://localhost:6333\")\n",
    "\n",
    "# client.delete_collection(\"dev_articles\")\n",
    "\n",
    "client.create_collection(\n",
    "    collection_name=\"dev_articles\",\n",
    "    vectors_config={\n",
    "        \"embedding\" :models.VectorParams(\n",
    "            size=768,\n",
    "            distance=models.Distance.COSINE\n",
    "        ),\n",
    "    },\n",
    "    sparse_vectors_config={\n",
    "        \"text\": models.SparseVectorParams(\n",
    "            index=models.SparseIndexParams(on_disk=False),\n",
    "            modifier=models.Modifier.IDF,\n",
    "        )\n",
    "    },\n",
    ")"
   ]
  },
  {
   "cell_type": "code",
   "execution_count": 26,
   "metadata": {},
   "outputs": [],
   "source": [
    "batch_size = 100\n",
    "\n",
    "for i in range(0, len(df), batch_size):\n",
    "    batch = df.iloc[i:i+batch_size]\n",
    "    points = []\n",
    "    for _, row in batch.iterrows():\n",
    "        points.append(\n",
    "            models.PointStruct(\n",
    "                id=row.uuid,\n",
    "                payload={\n",
    "                    \"text\":row.article,\n",
    "                    \"game\": row.Game,\n",
    "                    \"console\": row.Console,\n",
    "                    \"publisher\": row.Publisher,\n",
    "                },\n",
    "                vector={\n",
    "                    \"embedding\": list(row.embedding),\n",
    "                    \"text\": models.SparseVector(\n",
    "                        indices = row.sparse_indices,\n",
    "                        values = row.sparse_values,\n",
    "                    )\n",
    "                }\n",
    "            )\n",
    "        )\n",
    "\n",
    "    client.upsert(\n",
    "        collection_name=\"dev_articles\",\n",
    "        points=points,\n",
    "        wait=True,\n",
    "    )"
   ]
  },
  {
   "cell_type": "markdown",
   "metadata": {},
   "source": [
    "Persistance des entites (Games, Consoles, Publishers) avec duckdb"
   ]
  },
  {
   "cell_type": "code",
   "execution_count": null,
   "metadata": {},
   "outputs": [],
   "source": [
    "conn = duckdb.connect('entities.db')"
   ]
  },
  {
   "cell_type": "code",
   "execution_count": null,
   "metadata": {},
   "outputs": [],
   "source": [
    "conn.sql(\"CREATE TABLE IF NOT EXISTS games (name VARCHAR)\")\n",
    "conn.sql(\"CREATE TABLE IF NOT EXISTS consoles (name VARCHAR)\")\n",
    "conn.sql(\"CREATE TABLE IF NOT EXISTS publishers (name VARCHAR)\")"
   ]
  },
  {
   "cell_type": "code",
   "execution_count": null,
   "metadata": {},
   "outputs": [],
   "source": [
    "def insert_entities(df, entity_type):\n",
    "    conn.sql(f\"\"\"\n",
    "        INSERT INTO {entity_type.lower()}s\n",
    "        SELECT DISTINCT UNNEST({entity_type})\n",
    "        FROM df\n",
    "        WHERE {entity_type} IS NOT NULL\n",
    "    \"\"\")\n",
    "\n",
    "for t in types:\n",
    "    insert_entities(df, t)"
   ]
  },
  {
   "cell_type": "code",
   "execution_count": 35,
   "metadata": {},
   "outputs": [],
   "source": [
    "conn.close()"
   ]
  }
 ],
 "metadata": {
  "kernelspec": {
   "display_name": ".venv",
   "language": "python",
   "name": "python3"
  },
  "language_info": {
   "codemirror_mode": {
    "name": "ipython",
    "version": 3
   },
   "file_extension": ".py",
   "mimetype": "text/x-python",
   "name": "python",
   "nbconvert_exporter": "python",
   "pygments_lexer": "ipython3",
   "version": "3.12.9"
  }
 },
 "nbformat": 4,
 "nbformat_minor": 2
}
