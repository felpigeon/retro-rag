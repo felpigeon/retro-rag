{
 "cells": [
  {
   "cell_type": "code",
   "execution_count": null,
   "metadata": {},
   "outputs": [],
   "source": [
    "import duckdb\n",
    "import pandas as pd\n",
    "from sentence_transformers import SentenceTransformer"
   ]
  },
  {
   "cell_type": "code",
   "execution_count": null,
   "metadata": {},
   "outputs": [],
   "source": [
    "df = pd.read_parquet('../../data/articles.parquet')\n",
    "metadata = pd.read_parquet('../../data/metadata')"
   ]
  },
  {
   "cell_type": "code",
   "execution_count": 31,
   "metadata": {},
   "outputs": [],
   "source": [
    "df = df.merge(metadata[[\"_id\", \"triples\"]], how=\"left\", on=\"_id\")"
   ]
  },
  {
   "cell_type": "code",
   "execution_count": 32,
   "metadata": {},
   "outputs": [],
   "source": [
    "triples = df[['uuid', 'triples']].explode(\"triples\").dropna()\n",
    "triples = triples[triples.triples.apply(lambda x: len(x)) == 3]"
   ]
  },
  {
   "cell_type": "code",
   "execution_count": null,
   "metadata": {},
   "outputs": [],
   "source": [
    "triples['head']     = triples['triples'].apply(lambda x: x[0]).str.lower()\n",
    "triples['relation'] = triples['triples'].apply(lambda x: x[1]).str.lower()\n",
    "triples['tail']     = triples['triples'].apply(lambda x: x[2]).str.lower()"
   ]
  },
  {
   "cell_type": "code",
   "execution_count": null,
   "metadata": {},
   "outputs": [],
   "source": [
    "triples[\"flatten\"] = triples.apply(\n",
    "    lambda x: f\"{x['head']} {x['relation']} {x['tail']}\",\n",
    "    axis=1\n",
    ").str.lower()"
   ]
  },
  {
   "cell_type": "code",
   "execution_count": null,
   "metadata": {},
   "outputs": [],
   "source": [
    "triples = triples.drop(columns=['triples'])"
   ]
  },
  {
   "cell_type": "code",
   "execution_count": null,
   "metadata": {},
   "outputs": [],
   "source": [
    "con = duckdb.connect(\"triples.db\")\n",
    "con.execute(\"CREATE TABLE triples AS SELECT * FROM triples\")\n",
    "con.close()"
   ]
  },
  {
   "cell_type": "code",
   "execution_count": 14,
   "metadata": {},
   "outputs": [
    {
     "data": {
      "application/vnd.jupyter.widget-view+json": {
       "model_id": "5c583a70af5f469aaed7e038aea58d9f",
       "version_major": 2,
       "version_minor": 0
      },
      "text/plain": [
       "Batches:   0%|          | 0/6422 [00:00<?, ?it/s]"
      ]
     },
     "metadata": {},
     "output_type": "display_data"
    }
   ],
   "source": [
    "model = SentenceTransformer(\"all-MiniLM-L6-v2\")\n",
    "\n",
    "embeddings = model.encode(triples[\"flatten\"].tolist(), show_progress_bar=True, device=\"cuda\")"
   ]
  },
  {
   "cell_type": "code",
   "execution_count": 36,
   "metadata": {},
   "outputs": [],
   "source": [
    "from fastembed import SparseTextEmbedding\n",
    "\n",
    "bm25_model = SparseTextEmbedding(model_name=\"Qdrant/bm25\")\n",
    "triples['sparse'] = list(bm25_model.embed(triples['flatten'].tolist()))\n",
    "\n",
    "triples['sparse_values'] = triples['sparse'].apply(\n",
    "    lambda x: [float(v) for v in x.values]\n",
    ")\n",
    "triples['sparse_indices'] = triples['sparse'].apply(\n",
    "    lambda x: [int(v) for v in x.indices]\n",
    ")\n",
    "\n",
    "triples = triples.drop(columns=['sparse'])"
   ]
  },
  {
   "cell_type": "code",
   "execution_count": 38,
   "metadata": {},
   "outputs": [
    {
     "data": {
      "text/plain": [
       "True"
      ]
     },
     "execution_count": 38,
     "metadata": {},
     "output_type": "execute_result"
    }
   ],
   "source": [
    "from qdrant_client import QdrantClient, models\n",
    "\n",
    "client = QdrantClient(\"http://localhost:6333\")\n",
    "\n",
    "client.delete_collection(\"dev_triples\")\n",
    "client.create_collection(\n",
    "    collection_name=\"dev_triples\",\n",
    "    vectors_config={},\n",
    "    sparse_vectors_config={\n",
    "        \"text\": models.SparseVectorParams(\n",
    "            index=models.SparseIndexParams(on_disk=False),\n",
    "            modifier=models.Modifier.IDF,\n",
    "        )\n",
    "    },\n",
    ")"
   ]
  },
  {
   "cell_type": "code",
   "execution_count": 39,
   "metadata": {},
   "outputs": [
    {
     "name": "stderr",
     "output_type": "stream",
     "text": [
      "100%|██████████| 206/206 [00:12<00:00, 16.93it/s]\n"
     ]
    }
   ],
   "source": [
    "from tqdm import tqdm\n",
    "\n",
    "batch_size = 1000\n",
    "\n",
    "for i in tqdm(range(0, len(triples), batch_size)):\n",
    "    batch = triples.iloc[i:i+batch_size]\n",
    "    points = []\n",
    "    for _, row in batch.iterrows():\n",
    "        points.append(\n",
    "            models.PointStruct(\n",
    "                id=row.uuid,\n",
    "                payload={\n",
    "                    \"uuid\": row.uuid,\n",
    "                    \"head\": row['head'],\n",
    "                    \"relation\": row.relation,\n",
    "                    \"tail\": row['tail'],\n",
    "                    \"flatten\": row.flatten,\n",
    "                },\n",
    "                vector={\n",
    "                    \"text\": models.SparseVector(\n",
    "                        indices = row.sparse_indices,\n",
    "                        values = row.sparse_values,\n",
    "                    )\n",
    "                }\n",
    "            )\n",
    "        )\n",
    "\n",
    "    client.upsert(\n",
    "        collection_name=\"dev_triples\",\n",
    "        points=points,\n",
    "        wait=True,\n",
    "    )"
   ]
  },
  {
   "cell_type": "code",
   "execution_count": null,
   "metadata": {},
   "outputs": [],
   "source": []
  }
 ],
 "metadata": {
  "kernelspec": {
   "display_name": ".venv",
   "language": "python",
   "name": "python3"
  },
  "language_info": {
   "codemirror_mode": {
    "name": "ipython",
    "version": 3
   },
   "file_extension": ".py",
   "mimetype": "text/x-python",
   "name": "python",
   "nbconvert_exporter": "python",
   "pygments_lexer": "ipython3",
   "version": "3.12.9"
  }
 },
 "nbformat": 4,
 "nbformat_minor": 2
}
