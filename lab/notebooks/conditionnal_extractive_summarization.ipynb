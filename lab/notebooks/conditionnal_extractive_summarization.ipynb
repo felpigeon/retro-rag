{
 "cells": [
  {
   "cell_type": "code",
   "execution_count": 1,
   "metadata": {},
   "outputs": [],
   "source": [
    "import numpy as np\n",
    "import pandas as pd\n",
    "\n",
    "from sentence_splitter import split_text_into_sentences\n",
    "from sentence_transformers import CrossEncoder"
   ]
  },
  {
   "cell_type": "code",
   "execution_count": 8,
   "metadata": {},
   "outputs": [],
   "source": [
    "model = CrossEncoder(\"cross-encoder/ms-marco-MiniLM-L6-v2\", device='cuda')"
   ]
  },
  {
   "cell_type": "code",
   "execution_count": 16,
   "metadata": {},
   "outputs": [],
   "source": [
    "def rank_crossencoder(query, document, doc_length = 1000):\n",
    "    sentences = split_text_into_sentences(\n",
    "        text=document,\n",
    "        language='en',\n",
    "    )\n",
    "\n",
    "    sentences = [s for s in sentences if len(s) > 0]\n",
    "    sentences = np.array(sentences)\n",
    "    sentences_length = [len(s) for s in sentences]\n",
    "\n",
    "    scores = model.predict([(query, s) for s in sentences])\n",
    "\n",
    "    index = np.argsort(scores).tolist()[::-1]\n",
    "\n",
    "    total_length = 0\n",
    "    for i in range(len(index)):\n",
    "        total_length += sentences_length[index[i]]\n",
    "        if total_length > doc_length:\n",
    "            break\n",
    "\n",
    "    index = index[:i+1]\n",
    "    index = np.sort(index)\n",
    "\n",
    "    sentences = sentences[index]\n",
    "\n",
    "    return \"\\n\".join(sentences)"
   ]
  },
  {
   "cell_type": "code",
   "execution_count": 2,
   "metadata": {},
   "outputs": [],
   "source": [
    "df = pd.read_parquet('../data/articles.parquet')"
   ]
  },
  {
   "cell_type": "code",
   "execution_count": 3,
   "metadata": {},
   "outputs": [],
   "source": [
    "df['article_len'] = df.article.str.len()"
   ]
  },
  {
   "cell_type": "code",
   "execution_count": 4,
   "metadata": {},
   "outputs": [],
   "source": [
    "df.sort_values('article_len', ascending=False, inplace=True)"
   ]
  },
  {
   "cell_type": "code",
   "execution_count": 18,
   "metadata": {},
   "outputs": [
    {
     "data": {
      "text/plain": [
       "count    10898.000000\n",
       "mean       819.998899\n",
       "std        582.007210\n",
       "min         36.000000\n",
       "25%        388.000000\n",
       "50%        640.000000\n",
       "75%       1096.750000\n",
       "max       4042.000000\n",
       "Name: article_len, dtype: float64"
      ]
     },
     "execution_count": 18,
     "metadata": {},
     "output_type": "execute_result"
    }
   ],
   "source": [
    "df.article_len.describe()"
   ]
  },
  {
   "cell_type": "code",
   "execution_count": 6,
   "metadata": {},
   "outputs": [
    {
     "name": "stdout",
     "output_type": "stream",
     "text": [
      "4042\n",
      "# Destiny 2\n",
      "\n",
      "Destiny 2 is a free-to-play online first-person shooter video game developed by Bungie. It was originally released as a pay to play game in 2017 for PlayStation 4, Xbox One, and Windows. It became free-to-play, utilizing the games as a service model, under the New Light title on October 1, 2019, followed by the game's release on Stadia the following month, and then PlayStation 5 and Xbox Series X/S platforms in December 2020. The game was published by Activision until December 31, 2018, when Bungie acquired the publishing rights to the franchise. It is the sequel to 2014's Destiny and its subsequent expansions.\n",
      "Set in a \"mythic science fiction\" world, the game features a multiplayer \"shared-world\" environment with elements of role-playing games. Like the original, activities in Destiny 2 are divided among player versus environment (PvE) and player versus player (PvP) game types. In addition to normal story missions, PvE features three-player \"strikes\" and dungeons and six-player raids. A free roam patrol mode is also available for each destination which feature public events as well as activities not available in the original. These activities have an emphasis on exploration of the destinations and interactions with non-player characters (NPCs); the original Destiny only featured NPCs in social spaces. PvP features objective-based modes, as well as traditional deathmatch game modes.\n",
      "Players assume the role of a Guardian, protectors of Earth's last safe city as they wield a power called Light to protect humanity from different alien races and combat the looming threat of the Darkness. Like the original Destiny, the game features expansion packs which further the story and adds new content across the game. Year One of Destiny 2 featured two small expansions, Curse of Osiris (December 2017) and Warmind (May 2018). A third, large expansion, Forsaken (September 2018), began Year Two with an overhaul on gameplay and also introduced a seasonal model for the game in which smaller content packs were released throughout the year between the expansions, with the year divided into four seasons. The release of the next expansion, Shadowkeep (October 2019) began Year Three. Beginning with Shadowkeep, each release is considered a standalone release, not requiring players to own previous premium content. Released alongside this fourth expansion was a version of Destiny 2 called New Light, a free-to-play re-release of Destiny 2, which also included access to the first two expansions. Separate seasonal passes also became available for each season's content. While the main Destiny 2 game has since been \"free-to-play\", all other content requires purchasing.\n",
      "Year Four saw the biggest overhaul on the game, as nearly half of the game's content from its first three years, including the original base campaign as well as Curse of Osiris and Warmind, were removed from the game and placed into what Bungie calls the Destiny Content Vault. Alongside this change, Year Four began with the fifth expansion, Beyond Light (November 2020), which introduced the power of Darkness to the players. Bungie described this expansion as the beginning of a new era for the franchise, as it would be followed up by The Witch Queen in February 2022 and Lightfall in February 2023. A final chapter for Destiny's first saga, the \"Light and Darkness\" saga, was released in June 2024 called The Final Shape. Alongside this expansion saw a change to the seasonal model as the traditional four seasons were replaced by three large episodes but still utilizing season passes.\n",
      "Upon release, Destiny 2 received generally favorable reviews from critics. Praise focused on its improvements, particularly with regards to its initial story, as well as its gameplay, visuals, exploration focus, multiplayer, and public occasions. Reviews were divided on the recategorization of the weapons, the Leviathan raid, and new modes. Destiny 2 was nominated for and won various awards, such as at The Game Awards 2017 and Game Critics Awards.\n"
     ]
    }
   ],
   "source": [
    "print(df.article_len.iloc[0])\n",
    "print(df.iloc[0].article)"
   ]
  },
  {
   "cell_type": "code",
   "execution_count": 12,
   "metadata": {},
   "outputs": [
    {
     "name": "stdout",
     "output_type": "stream",
     "text": [
      "Rank 1: 3 - 5.554337501525879 - It became free-to-play, utilizing the games as a service model, under the New Light title on October 1, 2019, followed by the game's release on Stadia the following month, and then PlayStation 5 and Xbox Series X/S platforms in December 2020.\n",
      "Rank 2: 1 - 5.551577091217041 - Destiny 2 is a free-to-play online first-person shooter video game developed by Bungie.\n",
      "Rank 3: 18 - 5.45986795425415 - Released alongside this fourth expansion was a version of Destiny 2 called New Light, a free-to-play re-release of Destiny 2, which also included access to the first two expansions.\n",
      "Rank 4: 20 - 4.665113925933838 - While the main Destiny 2 game has since been \"free-to-play\", all other content requires purchasing.\n",
      "Rank 5: 29 - -0.07428227365016937 - Destiny 2 was nominated for and won various awards, such as at The Game Awards 2017 and Game Critics Awards.\n",
      "Rank 6: 0 - -0.3811410069465637 - # Destiny 2\n",
      "Rank 7: 14 - -0.42160502076148987 - Year One of Destiny 2 featured two small expansions, Curse of Osiris (December 2017) and Warmind (May 2018).\n",
      "Rank 8: 7 - -0.7698989510536194 - Like the original, activities in Destiny 2 are divided among player versus environment (PvE) and player versus player (PvP) game types.\n",
      "Rank 9: 26 - -1.5359106063842773 - Upon release, Destiny 2 received generally favorable reviews from critics.\n",
      "Rank 10: 5 - -1.5461641550064087 - It is the sequel to 2014's Destiny and its subsequent expansions.\n",
      "Rank 11: 21 - -1.6622763872146606 - Year Four saw the biggest overhaul on the game, as nearly half of the game's content from its first three years, including the original base campaign as well as Curse of Osiris and Warmind, were removed from the game and placed into what Bungie calls the Destiny Content Vault.\n",
      "Rank 12: 13 - -2.3376190662384033 - Like the original Destiny, the game features expansion packs which further the story and adds new content across the game.\n",
      "Rank 13: 24 - -3.7000913619995117 - A final chapter for Destiny's first saga, the \"Light and Darkness\" saga, was released in June 2024 called The Final Shape.\n",
      "Rank 14: 10 - -3.9169111251831055 - These activities have an emphasis on exploration of the destinations and interactions with non-player characters (NPCs); the original Destiny only featured NPCs in social spaces.\n",
      "Rank 15: 2 - -5.030229568481445 - It was originally released as a pay to play game in 2017 for PlayStation 4, Xbox One, and Windows.\n",
      "Rank 16: 4 - -7.320387840270996 - The game was published by Activision until December 31, 2018, when Bungie acquired the publishing rights to the franchise.\n",
      "Rank 17: 6 - -7.738088130950928 - Set in a \"mythic science fiction\" world, the game features a multiplayer \"shared-world\" environment with elements of role-playing games.\n",
      "Rank 18: 15 - -8.405532836914062 - A third, large expansion, Forsaken (September 2018), began Year Two with an overhaul on gameplay and also introduced a seasonal model for the game in which smaller content packs were released throughout the year between the expansions, with the year divided into four seasons.\n",
      "Rank 19: 9 - -8.453344345092773 - A free roam patrol mode is also available for each destination which feature public events as well as activities not available in the original.\n",
      "Rank 20: 22 - -8.485860824584961 - Alongside this change, Year Four began with the fifth expansion, Beyond Light (November 2020), which introduced the power of Darkness to the players.\n"
     ]
    },
    {
     "data": {
      "text/plain": [
       "[3, 1, 18, 20, 29, 0, 14, 7, 26, 5, 21, 13, 24, 10, 2, 4, 6, 15, 9, 22]"
      ]
     },
     "execution_count": 12,
     "metadata": {},
     "output_type": "execute_result"
    }
   ],
   "source": [
    "rank_crossencoder(\n",
    "    \"What is the title under which Destiny 2 became a free-to-play game?\",\n",
    "    df.iloc[0].article,\n",
    ")"
   ]
  },
  {
   "cell_type": "code",
   "execution_count": 17,
   "metadata": {},
   "outputs": [
    {
     "name": "stdout",
     "output_type": "stream",
     "text": [
      "# Destiny 2\n",
      "Destiny 2 is a free-to-play online first-person shooter video game developed by Bungie.\n",
      "It became free-to-play, utilizing the games as a service model, under the New Light title on October 1, 2019, followed by the game's release on Stadia the following month, and then PlayStation 5 and Xbox Series X/S platforms in December 2020.\n",
      "Like the original, activities in Destiny 2 are divided among player versus environment (PvE) and player versus player (PvP) game types.\n",
      "Year One of Destiny 2 featured two small expansions, Curse of Osiris (December 2017) and Warmind (May 2018).\n",
      "Released alongside this fourth expansion was a version of Destiny 2 called New Light, a free-to-play re-release of Destiny 2, which also included access to the first two expansions.\n",
      "While the main Destiny 2 game has since been \"free-to-play\", all other content requires purchasing.\n",
      "Upon release, Destiny 2 received generally favorable reviews from critics.\n",
      "Destiny 2 was nominated for and won various awards, such as at The Game Awards 2017 and Game Critics Awards.\n"
     ]
    }
   ],
   "source": [
    "print(rank_crossencoder(\n",
    "    \"What is the title under which Destiny 2 became a free-to-play game?\",\n",
    "    df.iloc[0].article,\n",
    "))"
   ]
  },
  {
   "cell_type": "code",
   "execution_count": null,
   "metadata": {},
   "outputs": [],
   "source": []
  }
 ],
 "metadata": {
  "kernelspec": {
   "display_name": ".venv",
   "language": "python",
   "name": "python3"
  },
  "language_info": {
   "codemirror_mode": {
    "name": "ipython",
    "version": 3
   },
   "file_extension": ".py",
   "mimetype": "text/x-python",
   "name": "python",
   "nbconvert_exporter": "python",
   "pygments_lexer": "ipython3",
   "version": "3.12.9"
  }
 },
 "nbformat": 4,
 "nbformat_minor": 2
}
