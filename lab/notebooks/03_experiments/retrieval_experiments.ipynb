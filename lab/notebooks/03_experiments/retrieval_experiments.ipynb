{
 "cells": [
  {
   "cell_type": "code",
   "execution_count": 1,
   "metadata": {},
   "outputs": [],
   "source": [
    "import pandas as pd\n",
    "import mlflow\n",
    "import itertools"
   ]
  },
  {
   "cell_type": "code",
   "execution_count": 2,
   "metadata": {},
   "outputs": [
    {
     "name": "stderr",
     "output_type": "stream",
     "text": [
      "/home/felix/tmp/lexum-test/lab/.venv/lib/python3.12/site-packages/qdrant_client/http/models/models.py:758: SyntaxWarning: invalid escape sequence '\\&'\n",
      "  description=\"Check that the field is empty, alternative syntax for `is_empty: \\&quot;field_name\\&quot;`\",\n",
      "/home/felix/tmp/lexum-test/lab/.venv/lib/python3.12/site-packages/qdrant_client/http/models/models.py:762: SyntaxWarning: invalid escape sequence '\\&'\n",
      "  description=\"Check that the field is null, alternative syntax for `is_null: \\&quot;field_name\\&quot;`\",\n"
     ]
    },
    {
     "data": {
      "application/vnd.jupyter.widget-view+json": {
       "model_id": "05c9255c79aa4c5abf16a8a108e09cbe",
       "version_major": 2,
       "version_minor": 0
      },
      "text/plain": [
       "Fetching 30 files:   0%|          | 0/30 [00:00<?, ?it/s]"
      ]
     },
     "metadata": {},
     "output_type": "display_data"
    },
    {
     "data": {
      "application/vnd.jupyter.widget-view+json": {
       "model_id": "168a7c7b86b24cd88454590c1f6086e0",
       "version_major": 2,
       "version_minor": 0
      },
      "text/plain": [
       "basque.txt:   0%|          | 0.00/2.20k [00:00<?, ?B/s]"
      ]
     },
     "metadata": {},
     "output_type": "display_data"
    },
    {
     "data": {
      "application/vnd.jupyter.widget-view+json": {
       "model_id": "af4f6ce22e6d47a986df919c3bc7e1a2",
       "version_major": 2,
       "version_minor": 0
      },
      "text/plain": [
       "azerbaijani.txt:   0%|          | 0.00/967 [00:00<?, ?B/s]"
      ]
     },
     "metadata": {},
     "output_type": "display_data"
    },
    {
     "data": {
      "application/vnd.jupyter.widget-view+json": {
       "model_id": "1850c5af81954cca90a449f73f741fe2",
       "version_major": 2,
       "version_minor": 0
      },
      "text/plain": [
       "arabic.txt:   0%|          | 0.00/6.35k [00:00<?, ?B/s]"
      ]
     },
     "metadata": {},
     "output_type": "display_data"
    },
    {
     "data": {
      "application/vnd.jupyter.widget-view+json": {
       "model_id": "401a59600ba04be188e6a40fad6b93a8",
       "version_major": 2,
       "version_minor": 0
      },
      "text/plain": [
       "bengali.txt:   0%|          | 0.00/5.44k [00:00<?, ?B/s]"
      ]
     },
     "metadata": {},
     "output_type": "display_data"
    },
    {
     "data": {
      "application/vnd.jupyter.widget-view+json": {
       "model_id": "af4a5bd9a70143739a5d124df5ee0916",
       "version_major": 2,
       "version_minor": 0
      },
      "text/plain": [
       "chinese.txt:   0%|          | 0.00/5.56k [00:00<?, ?B/s]"
      ]
     },
     "metadata": {},
     "output_type": "display_data"
    },
    {
     "data": {
      "application/vnd.jupyter.widget-view+json": {
       "model_id": "d6258be2507d4f76b09714dfa36c03b2",
       "version_major": 2,
       "version_minor": 0
      },
      "text/plain": [
       "danish.txt:   0%|          | 0.00/424 [00:00<?, ?B/s]"
      ]
     },
     "metadata": {},
     "output_type": "display_data"
    },
    {
     "data": {
      "application/vnd.jupyter.widget-view+json": {
       "model_id": "06cd6f1aaaa742ce96c46ae1e2414735",
       "version_major": 2,
       "version_minor": 0
      },
      "text/plain": [
       "config.json:   0%|          | 0.00/2.00 [00:00<?, ?B/s]"
      ]
     },
     "metadata": {},
     "output_type": "display_data"
    },
    {
     "data": {
      "application/vnd.jupyter.widget-view+json": {
       "model_id": "102b8390cf6e48068395bf09930b5c4f",
       "version_major": 2,
       "version_minor": 0
      },
      "text/plain": [
       "catalan.txt:   0%|          | 0.00/1.56k [00:00<?, ?B/s]"
      ]
     },
     "metadata": {},
     "output_type": "display_data"
    },
    {
     "data": {
      "application/vnd.jupyter.widget-view+json": {
       "model_id": "27eb27699272499fa043efe750ffa37e",
       "version_major": 2,
       "version_minor": 0
      },
      "text/plain": [
       "finnish.txt:   0%|          | 0.00/1.58k [00:00<?, ?B/s]"
      ]
     },
     "metadata": {},
     "output_type": "display_data"
    },
    {
     "data": {
      "application/vnd.jupyter.widget-view+json": {
       "model_id": "92590a76564844ccae9147e21a6b2ea8",
       "version_major": 2,
       "version_minor": 0
      },
      "text/plain": [
       "french.txt:   0%|          | 0.00/813 [00:00<?, ?B/s]"
      ]
     },
     "metadata": {},
     "output_type": "display_data"
    },
    {
     "data": {
      "application/vnd.jupyter.widget-view+json": {
       "model_id": "a6536bd35b8c4e9c94879cfb1cf823f5",
       "version_major": 2,
       "version_minor": 0
      },
      "text/plain": [
       "greek.txt:   0%|          | 0.00/2.17k [00:00<?, ?B/s]"
      ]
     },
     "metadata": {},
     "output_type": "display_data"
    },
    {
     "data": {
      "application/vnd.jupyter.widget-view+json": {
       "model_id": "4b5a75744d17467bb0b611fc9c3a7b4e",
       "version_major": 2,
       "version_minor": 0
      },
      "text/plain": [
       "dutch.txt:   0%|          | 0.00/453 [00:00<?, ?B/s]"
      ]
     },
     "metadata": {},
     "output_type": "display_data"
    },
    {
     "data": {
      "application/vnd.jupyter.widget-view+json": {
       "model_id": "c10277ecff9547fe8ed0763013613426",
       "version_major": 2,
       "version_minor": 0
      },
      "text/plain": [
       "hebrew.txt:   0%|          | 0.00/1.84k [00:00<?, ?B/s]"
      ]
     },
     "metadata": {},
     "output_type": "display_data"
    },
    {
     "data": {
      "application/vnd.jupyter.widget-view+json": {
       "model_id": "dfcc20070dcb4babb4d1a2ce72e86c82",
       "version_major": 2,
       "version_minor": 0
      },
      "text/plain": [
       "german.txt:   0%|          | 0.00/1.36k [00:00<?, ?B/s]"
      ]
     },
     "metadata": {},
     "output_type": "display_data"
    },
    {
     "data": {
      "application/vnd.jupyter.widget-view+json": {
       "model_id": "3d7fe5f3a9704679a1e520211a5608fc",
       "version_major": 2,
       "version_minor": 0
      },
      "text/plain": [
       "english.txt:   0%|          | 0.00/936 [00:00<?, ?B/s]"
      ]
     },
     "metadata": {},
     "output_type": "display_data"
    },
    {
     "data": {
      "application/vnd.jupyter.widget-view+json": {
       "model_id": "3d934d7bb7b449c58acf8139e6758ee7",
       "version_major": 2,
       "version_minor": 0
      },
      "text/plain": [
       "italian.txt:   0%|          | 0.00/1.65k [00:00<?, ?B/s]"
      ]
     },
     "metadata": {},
     "output_type": "display_data"
    },
    {
     "data": {
      "application/vnd.jupyter.widget-view+json": {
       "model_id": "c8f55e745da54a288c0f8c7b9ab4e78f",
       "version_major": 2,
       "version_minor": 0
      },
      "text/plain": [
       "norwegian.txt:   0%|          | 0.00/851 [00:00<?, ?B/s]"
      ]
     },
     "metadata": {},
     "output_type": "display_data"
    },
    {
     "data": {
      "application/vnd.jupyter.widget-view+json": {
       "model_id": "cfed6b7b01d84653a24df7cbde57461e",
       "version_major": 2,
       "version_minor": 0
      },
      "text/plain": [
       "kazakh.txt:   0%|          | 0.00/3.88k [00:00<?, ?B/s]"
      ]
     },
     "metadata": {},
     "output_type": "display_data"
    },
    {
     "data": {
      "application/vnd.jupyter.widget-view+json": {
       "model_id": "c88f6b347ca044db858d83bf704221e2",
       "version_major": 2,
       "version_minor": 0
      },
      "text/plain": [
       "indonesian.txt:   0%|          | 0.00/6.45k [00:00<?, ?B/s]"
      ]
     },
     "metadata": {},
     "output_type": "display_data"
    },
    {
     "data": {
      "application/vnd.jupyter.widget-view+json": {
       "model_id": "c781e3eacd764ba18c7860c36bc5f7b5",
       "version_major": 2,
       "version_minor": 0
      },
      "text/plain": [
       "nepali.txt:   0%|          | 0.00/3.61k [00:00<?, ?B/s]"
      ]
     },
     "metadata": {},
     "output_type": "display_data"
    },
    {
     "data": {
      "application/vnd.jupyter.widget-view+json": {
       "model_id": "855e3ed95bd64af6a3f833f5ca634cec",
       "version_major": 2,
       "version_minor": 0
      },
      "text/plain": [
       "portuguese.txt:   0%|          | 0.00/1.29k [00:00<?, ?B/s]"
      ]
     },
     "metadata": {},
     "output_type": "display_data"
    },
    {
     "data": {
      "application/vnd.jupyter.widget-view+json": {
       "model_id": "12bb650e35194c63a187d99073ff84f8",
       "version_major": 2,
       "version_minor": 0
      },
      "text/plain": [
       "romanian.txt:   0%|          | 0.00/1.91k [00:00<?, ?B/s]"
      ]
     },
     "metadata": {},
     "output_type": "display_data"
    },
    {
     "data": {
      "application/vnd.jupyter.widget-view+json": {
       "model_id": "77552a98c577458695133f169b1b49b2",
       "version_major": 2,
       "version_minor": 0
      },
      "text/plain": [
       "tajik.txt:   0%|          | 0.00/1.82k [00:00<?, ?B/s]"
      ]
     },
     "metadata": {},
     "output_type": "display_data"
    },
    {
     "data": {
      "application/vnd.jupyter.widget-view+json": {
       "model_id": "409fcdfb07be4316a9921930747c6fc7",
       "version_major": 2,
       "version_minor": 0
      },
      "text/plain": [
       "swedish.txt:   0%|          | 0.00/559 [00:00<?, ?B/s]"
      ]
     },
     "metadata": {},
     "output_type": "display_data"
    },
    {
     "data": {
      "application/vnd.jupyter.widget-view+json": {
       "model_id": "1af0f89c57164294bc920b995c04e32f",
       "version_major": 2,
       "version_minor": 0
      },
      "text/plain": [
       "russian.txt:   0%|          | 0.00/1.24k [00:00<?, ?B/s]"
      ]
     },
     "metadata": {},
     "output_type": "display_data"
    },
    {
     "data": {
      "application/vnd.jupyter.widget-view+json": {
       "model_id": "5551be83932a48f59b680dd951828907",
       "version_major": 2,
       "version_minor": 0
      },
      "text/plain": [
       "spanish.txt:   0%|          | 0.00/2.18k [00:00<?, ?B/s]"
      ]
     },
     "metadata": {},
     "output_type": "display_data"
    },
    {
     "data": {
      "application/vnd.jupyter.widget-view+json": {
       "model_id": "bb28f63bc42c4751a8a37354d2d71f5b",
       "version_major": 2,
       "version_minor": 0
      },
      "text/plain": [
       "slovene.txt:   0%|          | 0.00/16.0k [00:00<?, ?B/s]"
      ]
     },
     "metadata": {},
     "output_type": "display_data"
    },
    {
     "data": {
      "application/vnd.jupyter.widget-view+json": {
       "model_id": "01efb157b96c48658d9250de2107239e",
       "version_major": 2,
       "version_minor": 0
      },
      "text/plain": [
       "hinglish.txt:   0%|          | 0.00/5.96k [00:00<?, ?B/s]"
      ]
     },
     "metadata": {},
     "output_type": "display_data"
    },
    {
     "data": {
      "application/vnd.jupyter.widget-view+json": {
       "model_id": "3db60c967f494c58a28b543d09436e52",
       "version_major": 2,
       "version_minor": 0
      },
      "text/plain": [
       "turkish.txt:   0%|          | 0.00/260 [00:00<?, ?B/s]"
      ]
     },
     "metadata": {},
     "output_type": "display_data"
    },
    {
     "data": {
      "application/vnd.jupyter.widget-view+json": {
       "model_id": "8b4f3cc0d1db41c39a9041bb1368d855",
       "version_major": 2,
       "version_minor": 0
      },
      "text/plain": [
       "hungarian.txt:   0%|          | 0.00/1.23k [00:00<?, ?B/s]"
      ]
     },
     "metadata": {},
     "output_type": "display_data"
    }
   ],
   "source": [
    "import sys\n",
    "sys.path.append('../../src')\n",
    "\n",
    "from search import search"
   ]
  },
  {
   "cell_type": "code",
   "execution_count": 3,
   "metadata": {},
   "outputs": [
    {
     "name": "stderr",
     "output_type": "stream",
     "text": [
      "2025/05/15 23:08:59 INFO mlflow.tracking.fluent: Experiment with name 'information_retrieval' does not exist. Creating a new experiment.\n"
     ]
    },
    {
     "data": {
      "text/plain": [
       "<Experiment: artifact_location='/home/felix/tmp/lexum-test/lab/notebooks/03_experiments/../../mlruns/630467622743382322', creation_time=1747364939641, experiment_id='630467622743382322', last_update_time=1747364939641, lifecycle_stage='active', name='information_retrieval', tags={}>"
      ]
     },
     "execution_count": 3,
     "metadata": {},
     "output_type": "execute_result"
    }
   ],
   "source": [
    "mlflow.set_tracking_uri(\"../../mlruns\")\n",
    "mlflow.set_experiment(\"information_retrieval\")"
   ]
  },
  {
   "cell_type": "code",
   "execution_count": 4,
   "metadata": {},
   "outputs": [],
   "source": [
    "def run_search(\n",
    "    query,\n",
    "    method,\n",
    "    k=5,\n",
    "    filter_by_entity=False,\n",
    "    do_rerank=False,\n",
    "    do_graph_expansion=False\n",
    "):\n",
    "    docs = search(\n",
    "        query,\n",
    "        method=method,\n",
    "        k=k,\n",
    "        filter_by_entity=filter_by_entity,\n",
    "        do_rerank=do_rerank,\n",
    "        do_graph_expansion=do_graph_expansion\n",
    "    )\n",
    "\n",
    "    docs = [doc.id for doc in docs]\n",
    "    return docs"
   ]
  },
  {
   "cell_type": "code",
   "execution_count": 5,
   "metadata": {},
   "outputs": [],
   "source": [
    "def run_experiment(df, method, dataset_name, k=5, filter_by_entity=False, do_rerank=False, do_graph_expansion=False):\n",
    "    df = df.copy()\n",
    "\n",
    "    with mlflow.start_run() as run:\n",
    "        df['retrieved'] = df.apply(\n",
    "            run_search,\n",
    "            method=method,\n",
    "            k=k,\n",
    "            filter_by_entity=filter_by_entity,\n",
    "            do_rerank=do_rerank,\n",
    "            do_graph_expansion=do_graph_expansion,\n",
    "            axis=1\n",
    "        )\n",
    "\n",
    "        mlflow.log_param(\"k\", k)\n",
    "        mlflow.log_param(\"dataset_name\", dataset_name)\n",
    "        mlflow.log_param(\"method\", method)\n",
    "        mlflow.log_param(\"filter_by_entity\", filter_by_entity)\n",
    "        mlflow.log_param(\"do_rerank\", do_rerank)\n",
    "        mlflow.log_param(\"do_graph_expansion\", do_graph_expansion)\n",
    "\n",
    "        mlflow.evaluate(\n",
    "            data=df,\n",
    "            model_type=\"retriever\",\n",
    "            targets=\"target\",\n",
    "            predictions=\"retrieved\",\n",
    "            evaluators=\"default\",\n",
    "            extra_metrics=[\n",
    "                mlflow.metrics.recall_at_k(1),\n",
    "                mlflow.metrics.recall_at_k(5),\n",
    "                mlflow.metrics.ndcg_at_k(1),\n",
    "                mlflow.metrics.ndcg_at_k(5),\n",
    "                mlflow.metrics.precision_at_k(1),\n",
    "                mlflow.metrics.precision_at_k(5),\n",
    "            ],\n",
    "        )"
   ]
  },
  {
   "cell_type": "code",
   "execution_count": 6,
   "metadata": {},
   "outputs": [],
   "source": [
    "def run_all_experiments(df, dataset_name):\n",
    "    params = itertools.product(\n",
    "        [1, 5, 10],\n",
    "        [\"bm25\", \"dense\", \"hybrid\"],\n",
    "        [True, False],\n",
    "        [True, False],\n",
    "    )\n",
    "\n",
    "    for k, m, filter_by_entity, do_rerank in params:\n",
    "        run_experiment(df, m, dataset_name, k, filter_by_entity, do_rerank)\n"
   ]
  },
  {
   "cell_type": "code",
   "execution_count": 9,
   "metadata": {},
   "outputs": [
    {
     "name": "stderr",
     "output_type": "stream",
     "text": [
      "2025/05/15 23:11:55 INFO mlflow.models.evaluation.default_evaluator: Testing metrics on first row...\n",
      "2025/05/15 23:11:56 INFO mlflow.models.evaluation.default_evaluator: Testing metrics on first row...\n",
      "2025/05/15 23:11:57 INFO mlflow.models.evaluation.default_evaluator: Testing metrics on first row...\n",
      "2025/05/15 23:11:57 INFO mlflow.models.evaluation.default_evaluator: Testing metrics on first row...\n",
      "2025/05/15 23:11:59 INFO mlflow.models.evaluation.default_evaluator: Testing metrics on first row...\n",
      "2025/05/15 23:12:00 INFO mlflow.models.evaluation.default_evaluator: Testing metrics on first row...\n",
      "2025/05/15 23:12:02 INFO mlflow.models.evaluation.default_evaluator: Testing metrics on first row...\n",
      "2025/05/15 23:12:02 INFO mlflow.models.evaluation.default_evaluator: Testing metrics on first row...\n",
      "2025/05/15 23:12:05 INFO mlflow.models.evaluation.default_evaluator: Testing metrics on first row...\n",
      "2025/05/15 23:12:06 INFO mlflow.models.evaluation.default_evaluator: Testing metrics on first row...\n",
      "2025/05/15 23:12:08 INFO mlflow.models.evaluation.default_evaluator: Testing metrics on first row...\n",
      "2025/05/15 23:12:08 INFO mlflow.models.evaluation.default_evaluator: Testing metrics on first row...\n",
      "2025/05/15 23:12:15 INFO mlflow.models.evaluation.default_evaluator: Testing metrics on first row...\n",
      "2025/05/15 23:12:16 INFO mlflow.models.evaluation.default_evaluator: Testing metrics on first row...\n",
      "2025/05/15 23:12:22 INFO mlflow.models.evaluation.default_evaluator: Testing metrics on first row...\n",
      "2025/05/15 23:12:22 INFO mlflow.models.evaluation.default_evaluator: Testing metrics on first row...\n",
      "2025/05/15 23:12:28 INFO mlflow.models.evaluation.default_evaluator: Testing metrics on first row...\n",
      "2025/05/15 23:12:29 INFO mlflow.models.evaluation.default_evaluator: Testing metrics on first row...\n",
      "2025/05/15 23:12:34 INFO mlflow.models.evaluation.default_evaluator: Testing metrics on first row...\n",
      "2025/05/15 23:12:35 INFO mlflow.models.evaluation.default_evaluator: Testing metrics on first row...\n",
      "2025/05/15 23:12:42 INFO mlflow.models.evaluation.default_evaluator: Testing metrics on first row...\n",
      "2025/05/15 23:12:43 INFO mlflow.models.evaluation.default_evaluator: Testing metrics on first row...\n",
      "2025/05/15 23:12:49 INFO mlflow.models.evaluation.default_evaluator: Testing metrics on first row...\n",
      "2025/05/15 23:12:49 INFO mlflow.models.evaluation.default_evaluator: Testing metrics on first row...\n",
      "2025/05/15 23:13:01 INFO mlflow.models.evaluation.default_evaluator: Testing metrics on first row...\n",
      "2025/05/15 23:13:02 INFO mlflow.models.evaluation.default_evaluator: Testing metrics on first row...\n",
      "2025/05/15 23:13:13 INFO mlflow.models.evaluation.default_evaluator: Testing metrics on first row...\n",
      "2025/05/15 23:13:14 INFO mlflow.models.evaluation.default_evaluator: Testing metrics on first row...\n",
      "2025/05/15 23:13:26 INFO mlflow.models.evaluation.default_evaluator: Testing metrics on first row...\n",
      "2025/05/15 23:13:27 INFO mlflow.models.evaluation.default_evaluator: Testing metrics on first row...\n",
      "2025/05/15 23:13:38 INFO mlflow.models.evaluation.default_evaluator: Testing metrics on first row...\n",
      "2025/05/15 23:13:39 INFO mlflow.models.evaluation.default_evaluator: Testing metrics on first row...\n",
      "2025/05/15 23:13:52 INFO mlflow.models.evaluation.default_evaluator: Testing metrics on first row...\n",
      "2025/05/15 23:13:54 INFO mlflow.models.evaluation.default_evaluator: Testing metrics on first row...\n",
      "2025/05/15 23:14:05 INFO mlflow.models.evaluation.default_evaluator: Testing metrics on first row...\n",
      "2025/05/15 23:14:06 INFO mlflow.models.evaluation.default_evaluator: Testing metrics on first row...\n"
     ]
    }
   ],
   "source": [
    "df = pd.read_parquet('../../data/retrieval_questions.parquet')\n",
    "df['target'] = df.uuid.apply(lambda x: [x])\n",
    "df['entities'] = df.entities.apply(\n",
    "    lambda x: {\n",
    "        k: [v_ for v_ in v if v_ is not None]\n",
    "        for k, v in x.items()\n",
    "        if v is not None and len(v) > 0\n",
    "    }\n",
    ")\n",
    "\n",
    "run_all_experiments(df, \"simple\")"
   ]
  },
  {
   "cell_type": "code",
   "execution_count": 10,
   "metadata": {},
   "outputs": [
    {
     "name": "stderr",
     "output_type": "stream",
     "text": [
      "2025/05/15 23:14:08 INFO mlflow.models.evaluation.default_evaluator: Testing metrics on first row...\n",
      "2025/05/15 23:14:09 INFO mlflow.models.evaluation.default_evaluator: Testing metrics on first row...\n",
      "2025/05/15 23:14:10 INFO mlflow.models.evaluation.default_evaluator: Testing metrics on first row...\n",
      "2025/05/15 23:14:11 INFO mlflow.models.evaluation.default_evaluator: Testing metrics on first row...\n",
      "2025/05/15 23:14:13 INFO mlflow.models.evaluation.default_evaluator: Testing metrics on first row...\n",
      "2025/05/15 23:14:14 INFO mlflow.models.evaluation.default_evaluator: Testing metrics on first row...\n",
      "2025/05/15 23:14:15 INFO mlflow.models.evaluation.default_evaluator: Testing metrics on first row...\n",
      "2025/05/15 23:14:16 INFO mlflow.models.evaluation.default_evaluator: Testing metrics on first row...\n",
      "2025/05/15 23:14:19 INFO mlflow.models.evaluation.default_evaluator: Testing metrics on first row...\n",
      "2025/05/15 23:14:20 INFO mlflow.models.evaluation.default_evaluator: Testing metrics on first row...\n",
      "2025/05/15 23:14:22 INFO mlflow.models.evaluation.default_evaluator: Testing metrics on first row...\n",
      "2025/05/15 23:14:22 INFO mlflow.models.evaluation.default_evaluator: Testing metrics on first row...\n",
      "2025/05/15 23:14:29 INFO mlflow.models.evaluation.default_evaluator: Testing metrics on first row...\n",
      "2025/05/15 23:14:30 INFO mlflow.models.evaluation.default_evaluator: Testing metrics on first row...\n",
      "2025/05/15 23:14:36 INFO mlflow.models.evaluation.default_evaluator: Testing metrics on first row...\n",
      "2025/05/15 23:14:36 INFO mlflow.models.evaluation.default_evaluator: Testing metrics on first row...\n",
      "2025/05/15 23:14:42 INFO mlflow.models.evaluation.default_evaluator: Testing metrics on first row...\n",
      "2025/05/15 23:14:43 INFO mlflow.models.evaluation.default_evaluator: Testing metrics on first row...\n",
      "2025/05/15 23:14:49 INFO mlflow.models.evaluation.default_evaluator: Testing metrics on first row...\n",
      "2025/05/15 23:14:49 INFO mlflow.models.evaluation.default_evaluator: Testing metrics on first row...\n",
      "2025/05/15 23:14:56 INFO mlflow.models.evaluation.default_evaluator: Testing metrics on first row...\n",
      "2025/05/15 23:14:58 INFO mlflow.models.evaluation.default_evaluator: Testing metrics on first row...\n",
      "2025/05/15 23:15:03 INFO mlflow.models.evaluation.default_evaluator: Testing metrics on first row...\n",
      "2025/05/15 23:15:04 INFO mlflow.models.evaluation.default_evaluator: Testing metrics on first row...\n",
      "2025/05/15 23:15:16 INFO mlflow.models.evaluation.default_evaluator: Testing metrics on first row...\n",
      "2025/05/15 23:15:17 INFO mlflow.models.evaluation.default_evaluator: Testing metrics on first row...\n",
      "2025/05/15 23:15:29 INFO mlflow.models.evaluation.default_evaluator: Testing metrics on first row...\n",
      "2025/05/15 23:15:30 INFO mlflow.models.evaluation.default_evaluator: Testing metrics on first row...\n",
      "2025/05/15 23:15:42 INFO mlflow.models.evaluation.default_evaluator: Testing metrics on first row...\n",
      "2025/05/15 23:15:43 INFO mlflow.models.evaluation.default_evaluator: Testing metrics on first row...\n",
      "2025/05/15 23:15:55 INFO mlflow.models.evaluation.default_evaluator: Testing metrics on first row...\n",
      "2025/05/15 23:15:55 INFO mlflow.models.evaluation.default_evaluator: Testing metrics on first row...\n",
      "2025/05/15 23:16:08 INFO mlflow.models.evaluation.default_evaluator: Testing metrics on first row...\n",
      "2025/05/15 23:16:10 INFO mlflow.models.evaluation.default_evaluator: Testing metrics on first row...\n",
      "2025/05/15 23:16:22 INFO mlflow.models.evaluation.default_evaluator: Testing metrics on first row...\n",
      "2025/05/15 23:16:23 INFO mlflow.models.evaluation.default_evaluator: Testing metrics on first row...\n"
     ]
    }
   ],
   "source": [
    "df = pd.read_parquet('../../data/retrieval_questions_detail.parquet')\n",
    "\n",
    "df['target'] = df.uuid.apply(lambda x: [x])\n",
    "df['entities'] = df.entities.apply(\n",
    "    lambda x: {\n",
    "        k: [v_ for v_ in v if v_ is not None]\n",
    "        for k, v in x.items()\n",
    "        if v is not None and len(v) > 0\n",
    "    }\n",
    ")\n",
    "\n",
    "run_all_experiments(df, \"detail\")"
   ]
  },
  {
   "cell_type": "code",
   "execution_count": 11,
   "metadata": {},
   "outputs": [
    {
     "name": "stderr",
     "output_type": "stream",
     "text": [
      "2025/05/15 23:16:25 INFO mlflow.models.evaluation.default_evaluator: Testing metrics on first row...\n",
      "2025/05/15 23:16:25 INFO mlflow.models.evaluation.default_evaluator: Testing metrics on first row...\n",
      "2025/05/15 23:16:27 INFO mlflow.models.evaluation.default_evaluator: Testing metrics on first row...\n",
      "2025/05/15 23:16:27 INFO mlflow.models.evaluation.default_evaluator: Testing metrics on first row...\n",
      "2025/05/15 23:16:29 INFO mlflow.models.evaluation.default_evaluator: Testing metrics on first row...\n",
      "2025/05/15 23:16:30 INFO mlflow.models.evaluation.default_evaluator: Testing metrics on first row...\n",
      "2025/05/15 23:16:32 INFO mlflow.models.evaluation.default_evaluator: Testing metrics on first row...\n",
      "2025/05/15 23:16:32 INFO mlflow.models.evaluation.default_evaluator: Testing metrics on first row...\n",
      "2025/05/15 23:16:34 INFO mlflow.models.evaluation.default_evaluator: Testing metrics on first row...\n",
      "2025/05/15 23:16:36 INFO mlflow.models.evaluation.default_evaluator: Testing metrics on first row...\n",
      "2025/05/15 23:16:37 INFO mlflow.models.evaluation.default_evaluator: Testing metrics on first row...\n",
      "2025/05/15 23:16:38 INFO mlflow.models.evaluation.default_evaluator: Testing metrics on first row...\n",
      "2025/05/15 23:16:44 INFO mlflow.models.evaluation.default_evaluator: Testing metrics on first row...\n",
      "2025/05/15 23:16:45 INFO mlflow.models.evaluation.default_evaluator: Testing metrics on first row...\n",
      "2025/05/15 23:16:50 INFO mlflow.models.evaluation.default_evaluator: Testing metrics on first row...\n",
      "2025/05/15 23:16:50 INFO mlflow.models.evaluation.default_evaluator: Testing metrics on first row...\n",
      "2025/05/15 23:16:56 INFO mlflow.models.evaluation.default_evaluator: Testing metrics on first row...\n",
      "2025/05/15 23:16:57 INFO mlflow.models.evaluation.default_evaluator: Testing metrics on first row...\n",
      "2025/05/15 23:17:03 INFO mlflow.models.evaluation.default_evaluator: Testing metrics on first row...\n",
      "2025/05/15 23:17:03 INFO mlflow.models.evaluation.default_evaluator: Testing metrics on first row...\n",
      "2025/05/15 23:17:10 INFO mlflow.models.evaluation.default_evaluator: Testing metrics on first row...\n",
      "2025/05/15 23:17:11 INFO mlflow.models.evaluation.default_evaluator: Testing metrics on first row...\n",
      "2025/05/15 23:17:16 INFO mlflow.models.evaluation.default_evaluator: Testing metrics on first row...\n",
      "2025/05/15 23:17:17 INFO mlflow.models.evaluation.default_evaluator: Testing metrics on first row...\n",
      "2025/05/15 23:17:28 INFO mlflow.models.evaluation.default_evaluator: Testing metrics on first row...\n",
      "2025/05/15 23:17:29 INFO mlflow.models.evaluation.default_evaluator: Testing metrics on first row...\n",
      "2025/05/15 23:17:40 INFO mlflow.models.evaluation.default_evaluator: Testing metrics on first row...\n",
      "2025/05/15 23:17:40 INFO mlflow.models.evaluation.default_evaluator: Testing metrics on first row...\n",
      "2025/05/15 23:17:52 INFO mlflow.models.evaluation.default_evaluator: Testing metrics on first row...\n",
      "2025/05/15 23:17:52 INFO mlflow.models.evaluation.default_evaluator: Testing metrics on first row...\n",
      "2025/05/15 23:18:03 INFO mlflow.models.evaluation.default_evaluator: Testing metrics on first row...\n",
      "2025/05/15 23:18:04 INFO mlflow.models.evaluation.default_evaluator: Testing metrics on first row...\n",
      "2025/05/15 23:18:15 INFO mlflow.models.evaluation.default_evaluator: Testing metrics on first row...\n",
      "2025/05/15 23:18:17 INFO mlflow.models.evaluation.default_evaluator: Testing metrics on first row...\n",
      "2025/05/15 23:18:28 INFO mlflow.models.evaluation.default_evaluator: Testing metrics on first row...\n",
      "2025/05/15 23:18:28 INFO mlflow.models.evaluation.default_evaluator: Testing metrics on first row...\n"
     ]
    }
   ],
   "source": [
    "df = pd.read_parquet('../../data/retrieval_questions_multichunks.parquet')\n",
    "\n",
    "df['target'] = df.target.apply(lambda x: x.tolist())\n",
    "df['entities'] = df.entities.apply(\n",
    "    lambda x: {\n",
    "        k: [v_ for v_ in v if v_ is not None]\n",
    "        for k, v in x.items()\n",
    "        if v is not None and len(v) > 0\n",
    "    }\n",
    ")\n",
    "\n",
    "run_all_experiments(df, \"multichunks\")"
   ]
  },
  {
   "cell_type": "code",
   "execution_count": null,
   "metadata": {},
   "outputs": [],
   "source": []
  }
 ],
 "metadata": {
  "kernelspec": {
   "display_name": ".venv",
   "language": "python",
   "name": "python3"
  },
  "language_info": {
   "codemirror_mode": {
    "name": "ipython",
    "version": 3
   },
   "file_extension": ".py",
   "mimetype": "text/x-python",
   "name": "python",
   "nbconvert_exporter": "python",
   "pygments_lexer": "ipython3",
   "version": "3.12.9"
  }
 },
 "nbformat": 4,
 "nbformat_minor": 2
}
