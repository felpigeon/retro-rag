{
 "cells": [
  {
   "cell_type": "markdown",
   "metadata": {},
   "source": [
    "# Generation d'un ensemble de donnees pour tester specifiquement le module d'information retrieval\n",
    "\n",
    "- A partir d'un chunk, on genere une question avec Gemini2.5 Flash en mode reasoning.\n",
    "- Environ une centaine de questions au total"
   ]
  },
  {
   "cell_type": "code",
   "execution_count": 17,
   "metadata": {},
   "outputs": [],
   "source": [
    "import pandas as pd\n",
    "\n",
    "from google import genai\n",
    "from google.genai.types import GenerateContentConfig"
   ]
  },
  {
   "cell_type": "code",
   "execution_count": null,
   "metadata": {},
   "outputs": [],
   "source": [
    "import sys\n",
    "sys.path.append('../../src')\n",
    "\n",
    "from entity import extract_entities, match_entity\n",
    "from embeddings import generate_embeddings"
   ]
  },
  {
   "cell_type": "code",
   "execution_count": null,
   "metadata": {},
   "outputs": [],
   "source": [
    "import os\n",
    "\n",
    "client = genai.Client(api_key=os.environ.get(\"GOOGLE_API_KEY\"))\n",
    "model_id = \"gemini-2.5-flash-preview-04-17\""
   ]
  },
  {
   "cell_type": "code",
   "execution_count": null,
   "metadata": {},
   "outputs": [],
   "source": [
    "df = pd.read_parquet(\"../../data/articles.parquet\")\n",
    "df = df.sample(frac=0.01)"
   ]
  },
  {
   "cell_type": "code",
   "execution_count": null,
   "metadata": {},
   "outputs": [],
   "source": [
    "def generate_question(doc, system_prompt):\n",
    "    response = client.models.generate_content(\n",
    "        model=model_id,\n",
    "        contents=doc,\n",
    "        config=GenerateContentConfig(\n",
    "            system_instruction=system_prompt,\n",
    "        )\n",
    "    )\n",
    "\n",
    "    return response.candidates[0].content.parts[0].text"
   ]
  },
  {
   "cell_type": "code",
   "execution_count": null,
   "metadata": {},
   "outputs": [],
   "source": [
    "def generate_dataset(df, prompt):\n",
    "    questions = {}\n",
    "\n",
    "    for _, row in df.iterrows():\n",
    "        if row.uuid in questions:\n",
    "            continue\n",
    "\n",
    "        try:\n",
    "            question = generate_question(row.article, prompt)\n",
    "            print(question)\n",
    "\n",
    "            questions[row.uuid] = question\n",
    "        except Exception as e:\n",
    "            print(f\"Error generating question for article: {e}\")\n",
    "            continue\n",
    "\n",
    "    questions_df = (\n",
    "        pd.DataFrame\n",
    "        .from_dict(questions, orient='index', columns=['question'])\n",
    "        .reset_index()\n",
    "        .rename(columns={'index': 'uuid'})\n",
    "    )\n",
    "\n",
    "    # Extract entities\n",
    "    entities = questions_df.question.apply(extract_entities)\n",
    "    questions_df['entities'] = entities\n",
    "    questions_df['entities'] = questions_df['entities'].apply(\n",
    "        lambda x: {\n",
    "            k: [match_entity(v, k) for v in v]\n",
    "            for k,v in x.items()\n",
    "            if v is not None\n",
    "        }\n",
    "    )\n",
    "\n",
    "    # Add dense embeddings\n",
    "    questions_df[\"question_embedding\"] = generate_embeddings(questions_df.question.tolist())\n",
    "\n",
    "    return questions_df"
   ]
  },
  {
   "cell_type": "markdown",
   "metadata": {},
   "source": [
    "Premier dataset genere"
   ]
  },
  {
   "cell_type": "code",
   "execution_count": null,
   "metadata": {},
   "outputs": [],
   "source": [
    "system_prompt = \"\"\"You are helping me creating retrieval dataset. Extract a question from the article bellow.\n",
    "Make sure every question contains at least one game or console name.\n",
    "Your answer should only be the question, without any additional text.\"\"\""
   ]
  },
  {
   "cell_type": "code",
   "execution_count": null,
   "metadata": {},
   "outputs": [],
   "source": [
    "questions_df = generate_dataset(df, system_prompt)\n",
    "questions_df.to_parquet(\"../../data/retrieval_questions.parquet\", index=False)"
   ]
  },
  {
   "cell_type": "markdown",
   "metadata": {},
   "source": [
    "Le premier dataset etait trop facile (recall tres eleve). J'ai tente d'en creer un plus difficile"
   ]
  },
  {
   "cell_type": "code",
   "execution_count": null,
   "metadata": {},
   "outputs": [],
   "source": [
    "system_prompt_detail = \"\"\"You are helping me creating retrieval dataset. Extract a question from the article bellow.\n",
    "The question should be about a detail mentioned in the article and not the general topic.\n",
    "Make sure every question contains at least one game or console name.\n",
    "Your answer should only be the question, without any additional text.\"\"\""
   ]
  },
  {
   "cell_type": "code",
   "execution_count": null,
   "metadata": {},
   "outputs": [],
   "source": [
    "questions_df = generate_dataset(df, system_prompt_detail)\n",
    "questions_df.to_parquet(\"../../data/retrieval_questions_detail.parquet\", index=False)"
   ]
  }
 ],
 "metadata": {
  "kernelspec": {
   "display_name": ".venv",
   "language": "python",
   "name": "python3"
  },
  "language_info": {
   "codemirror_mode": {
    "name": "ipython",
    "version": 3
   },
   "file_extension": ".py",
   "mimetype": "text/x-python",
   "name": "python",
   "nbconvert_exporter": "python",
   "pygments_lexer": "ipython3",
   "version": "3.12.9"
  }
 },
 "nbformat": 4,
 "nbformat_minor": 2
}
