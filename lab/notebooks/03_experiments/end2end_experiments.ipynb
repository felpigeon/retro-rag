{
 "cells": [
  {
   "cell_type": "code",
   "execution_count": null,
   "metadata": {},
   "outputs": [],
   "source": [
    "import pandas as pd\n",
    "import mlflow\n",
    "from mlflow.metrics.genai import answer_correctness"
   ]
  },
  {
   "cell_type": "code",
   "execution_count": null,
   "metadata": {},
   "outputs": [],
   "source": [
    "import sys\n",
    "sys.path.append('../../src')\n",
    "\n",
    "from search import search\n",
    "from embeddings import generate_embeddings\n",
    "from baml_client import b"
   ]
  },
  {
   "cell_type": "code",
   "execution_count": null,
   "metadata": {},
   "outputs": [],
   "source": [
    "df = pd.read_parquet('../../data/qa_testset.parquet')\n",
    "df = df.iloc[:5]"
   ]
  },
  {
   "cell_type": "code",
   "execution_count": null,
   "metadata": {},
   "outputs": [],
   "source": [
    "mlflow.set_tracking_uri(\"../../mlruns\")\n",
    "mlflow.set_experiment(\"end2end\")"
   ]
  },
  {
   "cell_type": "code",
   "execution_count": null,
   "metadata": {},
   "outputs": [],
   "source": [
    "def qa_pipeline(question, method='hybrid'):\n",
    "    query = b.QueryExpansion(question).question\n",
    "    query_embedding = generate_embeddings([query])[0]\n",
    "\n",
    "    docs = search(\n",
    "        pd.Series({\n",
    "            \"question\": query,\n",
    "            \"question_embedding\": query_embedding,\n",
    "        }),\n",
    "        method='hybrid',\n",
    "        k=10,\n",
    "        filter_by_entity=False,\n",
    "        do_rerank=True,\n",
    "    )\n",
    "\n",
    "    docs_str = [doc.payload['text'] for doc in docs]\n",
    "    answer = b.AskQuestion(question, docs_str)\n",
    "\n",
    "    return answer.answer"
   ]
  },
  {
   "cell_type": "code",
   "execution_count": null,
   "metadata": {},
   "outputs": [],
   "source": [
    "from sentence_transformers import CrossEncoder\n",
    "import torch\n",
    "model = CrossEncoder('cross-encoder/nli-deberta-v3-base')\n",
    "\n",
    "def nli_evaluation(predictions, targets):\n",
    "    pairs = [\n",
    "        (target, pred)\n",
    "        for pred, target in zip(predictions, targets)\n",
    "    ]\n",
    "\n",
    "    scores = model.predict(pairs, activation_fn=torch.nn.Softmax(dim=1))[:,1] # 1 => entailment\n",
    "\n",
    "    return mlflow.metrics.MetricValue(\n",
    "        scores=scores.tolist()\n",
    "    )\n",
    "\n",
    "entailment_metric = mlflow.metrics.make_metric(\n",
    "    eval_fn=nli_evaluation,\n",
    "    greater_is_better=True,\n",
    "    name=\"entailment_score\"\n",
    ")"
   ]
  },
  {
   "cell_type": "code",
   "execution_count": null,
   "metadata": {},
   "outputs": [],
   "source": [
    "def eval_end2end(df):\n",
    "    mlflow.set_experiment(\"end2end\")\n",
    "\n",
    "    df['prediction'] = df.question.apply(qa_pipeline)\n",
    "\n",
    "    with mlflow.start_run() as run:\n",
    "        mlflow.evaluate(\n",
    "                data=df.rename(columns={\"question\": \"inputs\"}),\n",
    "                model_type=\"question-answering\",\n",
    "                targets=\"answer\",\n",
    "                predictions=\"prediction\",\n",
    "                evaluators=\"default\",\n",
    "                extra_metrics=[\n",
    "                    answer_correctness(model='openai:/gpt-4.1-mini-2025-04-14'),\n",
    "                    entailment_metric\n",
    "                ]\n",
    "            )"
   ]
  },
  {
   "cell_type": "code",
   "execution_count": null,
   "metadata": {},
   "outputs": [],
   "source": [
    "eval_end2end(df)"
   ]
  },
  {
   "cell_type": "code",
   "execution_count": null,
   "metadata": {},
   "outputs": [],
   "source": []
  }
 ],
 "metadata": {
  "kernelspec": {
   "display_name": ".venv",
   "language": "python",
   "name": "python3"
  },
  "language_info": {
   "codemirror_mode": {
    "name": "ipython",
    "version": 3
   },
   "file_extension": ".py",
   "mimetype": "text/x-python",
   "name": "python",
   "nbconvert_exporter": "python",
   "pygments_lexer": "ipython3",
   "version": "3.12.9"
  }
 },
 "nbformat": 4,
 "nbformat_minor": 2
}
